{
 "cells": [
  {
   "cell_type": "code",
   "execution_count": null,
   "metadata": {},
   "outputs": [],
   "source": [
    "from tensorflow.keras.models import load_model\n",
    "from tensorflow.keras.preprocessing.image import load_img, img_to_array\n",
    "import numpy as np\n",
    "from flask import Flask, request, render_template\n",
    "from werkzeug.utils import secure_filename\n",
    "\n",
    "\n",
    "import os, sys, glob, re\n",
    "\n",
    "import base64\n",
    "import numpy as np\n",
    "import io\n",
    "import os\n",
    "from PIL import Image\n",
    "from keras import backend as K\n",
    "import urllib.request\n",
    "import tensorflow as tf\n",
    "from tensorflow import keras\n",
    "from tensorflow.keras.models import Sequential, load_model\n",
    "from keras.models import load_model\n",
    "from tensorflow.keras.preprocessing import image\n",
    "import matplotlib.pyplot as plt\n",
    "from tensorflow.keras.preprocessing.image import ImageDataGenerator, img_to_array\n",
    "from flask import request\n",
    "from flask import jsonify\n",
    "from flask import Flask"
   ]
  },
  {
   "cell_type": "code",
   "execution_count": 2,
   "metadata": {},
   "outputs": [],
   "source": [
    "from flask import Flask, render_template, request\n",
    "global model\n",
    "app = Flask(__name__)\n",
    "@app.route('/')\n",
    "def index_view():\n",
    "    return render_template('temp.html')\n",
    "\n",
    "def get_model():\n",
    "    global model\n",
    "    model = ResNet50(weights=\"imagenet\")\n",
    "        # this is key : save the graph after loading the model\n",
    "    global graph\n",
    "    graph = tf.get_default_graph()\n",
    "    model=load_model(\"SoilClassifier1.h5\")\n",
    "    print(\" * Model loaded!\")\n"
   ]
  },
  {
   "cell_type": "code",
   "execution_count": null,
   "metadata": {},
   "outputs": [],
   "source": []
  },
  {
   "cell_type": "code",
   "execution_count": null,
   "metadata": {},
   "outputs": [],
   "source": []
  },
  {
   "cell_type": "code",
   "execution_count": null,
   "metadata": {},
   "outputs": [],
   "source": []
  },
  {
   "cell_type": "code",
   "execution_count": 3,
   "metadata": {},
   "outputs": [],
   "source": [
    "def model_predict(image_path,model):\n",
    "    print(\"Predicted\")\n",
    "    image = load_img(image_path,target_size=(224,224))\n",
    "    image = img_to_array(image)\n",
    "    image = image/255.0\n",
    "    image = np.expand_dims(image,axis=0)\n",
    "    \n",
    "    result = np.argmax(model.predict(image))\n",
    "    #prediction = classes[result]\n",
    "    \n",
    "    return result\n",
    "    if result == 0:\n",
    "        print(\"Alluvial.html\")\n",
    "        \n",
    "        return \"Alluvial\"\n",
    "    elif result == 1:\n",
    "        print(\"Black.html\")\n",
    "        \n",
    "        return \"Black\"\n",
    "    elif result == 2:\n",
    "        print(\"Clay.html\")\n",
    "        \n",
    "        return \"Clay\" \n",
    "    elif result == 3:\n",
    "        print(\"Red.html\")\n",
    "        \n",
    "        return \"Red\"\n",
    "    else:\n",
    "        return \"Others\""
   ]
  },
  {
   "cell_type": "code",
   "execution_count": 4,
   "metadata": {},
   "outputs": [],
   "source": [
    "@app.route('/predict',methods=['GET','POST'])\n",
    "def predict():\n",
    "    print(\"Entered\")\n",
    "    if request.method == 'POST':\n",
    "        print(\"Entered here\")\n",
    "        file = request.files['image'] # fet input\n",
    "        filename='Red_1.jpg'\n",
    "        filename = file.filename        \n",
    "        print(\"@@ Input posted = \", filename)\n",
    "        \n",
    "        file_path = os.path.join('static/user uploaded', filename)\n",
    "        file.save(file_path)\n",
    "\n",
    "        print(\"@@ Predicting class......\")\n",
    "        \n",
    "        \n",
    "        print(file_path)\n",
    "        img=image.load_img(file_path,target_size=(224,224))\n",
    "        plt.imshow(img)\n",
    "        #print(img.shape)\n",
    "        plt.show()\n",
    "        x=image.img_to_array(img)\n",
    "        x = np.true_divide(x, 255)\n",
    "        x=np.expand_dims(x,axis=0)\n",
    "        images=np.vstack([x])\n",
    "        result=\"no result\"\n",
    "        global graph\n",
    "        graph = tf.get_default_graph() \n",
    "        #global graph\n",
    "        with graph.as_default():\n",
    "            val=model.predict(images)\n",
    "            print(val.dtype)\n",
    "            print(val)\n",
    "            print (\"preds.argmax(axis=1)\",val.argmax(axis=1))\n",
    "            i = val.argmax(axis=1)[0]\n",
    "            \n",
    "            \n",
    "            \n",
    "            if i==0:\n",
    "                result=\"ALLUVIAL\"\n",
    "                return render_template('alluvial.html')\n",
    "            elif i==1:\n",
    "                result=\"BLACK\"\n",
    "                return render_template('black.html')\n",
    "            elif i==2:\n",
    "                result=\"CLAY\"\n",
    "                return render_template('clay.html')\n",
    "            elif i==3:\n",
    "                result=\"RED\"\n",
    "                return render_template('red.html')\n",
    "            elif i==4:\n",
    "                result=\"SANDY\"\n",
    "                return render_template('sandy.html')\n",
    "        response = {\n",
    "        'result': result\n",
    "        }\n",
    "    return render_template('run.html')\n"
   ]
  },
  {
   "cell_type": "code",
   "execution_count": null,
   "metadata": {},
   "outputs": [],
   "source": []
  },
  {
   "cell_type": "code",
   "execution_count": null,
   "metadata": {},
   "outputs": [],
   "source": []
  },
  {
   "cell_type": "code",
   "execution_count": null,
   "metadata": {},
   "outputs": [],
   "source": []
  },
  {
   "cell_type": "code",
   "execution_count": 5,
   "metadata": {},
   "outputs": [
    {
     "name": "stdout",
     "output_type": "stream",
     "text": [
      " * Loading Keras model...\n",
      "WARNING:tensorflow:From E:\\anaconda3\\lib\\site-packages\\keras\\backend\\tensorflow_backend.py:4070: The name tf.nn.max_pool is deprecated. Please use tf.nn.max_pool2d instead.\n",
      "\n",
      "WARNING:tensorflow:From E:\\anaconda3\\lib\\site-packages\\keras\\backend\\tensorflow_backend.py:422: The name tf.global_variables is deprecated. Please use tf.compat.v1.global_variables instead.\n",
      "\n",
      " * Model loaded!\n"
     ]
    }
   ],
   "source": [
    "print(\" * Loading Keras model...\")\n",
    "from keras.applications.resnet50 import ResNet50\n",
    "get_model()"
   ]
  },
  {
   "cell_type": "code",
   "execution_count": null,
   "metadata": {},
   "outputs": [],
   "source": []
  },
  {
   "cell_type": "code",
   "execution_count": null,
   "metadata": {},
   "outputs": [],
   "source": []
  },
  {
   "cell_type": "code",
   "execution_count": null,
   "metadata": {},
   "outputs": [
    {
     "name": "stdout",
     "output_type": "stream",
     "text": [
      " * Serving Flask app \"__main__\" (lazy loading)\n",
      " * Environment: production\n",
      "   WARNING: This is a development server. Do not use it in a production deployment.\n",
      "   Use a production WSGI server instead.\n",
      " * Debug mode: off\n"
     ]
    },
    {
     "name": "stderr",
     "output_type": "stream",
     "text": [
      " * Running on http://127.0.0.1:5000/ (Press CTRL+C to quit)\n"
     ]
    }
   ],
   "source": [
    "if __name__ == '__main__':\n",
    "    app.run(threaded=False)"
   ]
  },
  {
   "cell_type": "code",
   "execution_count": null,
   "metadata": {},
   "outputs": [],
   "source": []
  },
  {
   "cell_type": "code",
   "execution_count": null,
   "metadata": {},
   "outputs": [],
   "source": []
  }
 ],
 "metadata": {
  "kernelspec": {
   "display_name": "Python 3",
   "language": "python",
   "name": "python3"
  },
  "language_info": {
   "codemirror_mode": {
    "name": "ipython",
    "version": 3
   },
   "file_extension": ".py",
   "mimetype": "text/x-python",
   "name": "python",
   "nbconvert_exporter": "python",
   "pygments_lexer": "ipython3",
   "version": "3.7.6"
  }
 },
 "nbformat": 4,
 "nbformat_minor": 4
}
